{
  "cells": [
    {
      "cell_type": "code",
      "execution_count": null,
      "metadata": {
        "id": "UGkDKeNbK-uG"
      },
      "outputs": [],
      "source": [
        "from IPython.utils import capture\n",
        "with capture.capture_output() as cap:\n",
        "  from google.colab import drive\n",
        "  drive.mount('/content/drive')\n",
        "  #\n",
        "  %cd /content\n",
        "  !curl -Lo /content/zeroDF.zip https://huggingface.co/josemerinom/app/resolve/main/zeroDF_0_24_0.zip #diffuser 0.24.0\n",
        "  !unzip -u /content/zeroDF.zip\n",
        "  !mkdir /content/log\n",
        "  !mkdir /content/drive/MyDrive/dataset\n",
        "  !mkdir /content/drive/MyDrive/train\n",
        "  !mkdir -p /root/.cache/huggingface/accelerate/\n",
        "  #\n",
        "  !pip install lmdb==1.4.1\n",
        "  !pip install torch==2.0.1+cu118 torchvision==0.15.2+cu118 torchaudio==2.0.2 torchtext==0.15.2+cpu torchdata==0.6.1 --index-url https://download.pytorch.org/whl/cu118\n",
        "  !pip install tensorflow==2.13.0\n",
        "  #\n",
        "  %cd /content/zeroDF\n",
        "  !pip install -e .\n",
        "  !pip install accelerate==0.25.0\n",
        "  !pip install diffusers[torch]==0.24.0\n",
        "  !pip install transformers==4.36.0\n",
        "  !pip install bitsandbytes==0.41.1\n",
        "  !pip install ftfy\n",
        "  !pip install Jinja2\n",
        "  #\n",
        "  %cd /content\n",
        "  !curl -Lo /content/default_config.yaml https://huggingface.co/josemerinom/app/resolve/main/default_config_25_fp16.yaml\n",
        "  !cp -r /content/default_config.yaml /root/.cache/huggingface/accelerate/"
      ]
    },
    {
      "cell_type": "code",
      "execution_count": null,
      "metadata": {
        "id": "nQTOv14gexr3"
      },
      "outputs": [],
      "source": [
        "%cd /content/\n",
        "!accelerate launch --num_cpu_threads_per_process=2 --num_processes=2 /content/zeroDF/examples/dreambooth/train_dreambooth.py \\\n",
        "  --adam_beta1=0.9 \\\n",
        "  --adam_beta2=0.999 \\\n",
        "  --adam_weight_decay=0.01 \\\n",
        "  --adam_epsilon=1e-08 \\\n",
        "  --checkpointing_steps=9999 \\\n",
        "  --dataloader_num_workers=2 \\\n",
        "  --gradient_accumulation_steps=1 \\\n",
        "  --instance_data_dir=\"/content/drive/MyDrive/dataset\" \\\n",
        "  --instance_prompt=\"mdlwmn\" \\\n",
        "  --learning_rate=1e-6 \\\n",
        "  --logging_dir=\"/content/log\" \\\n",
        "  --lr_scheduler=\"cosine\" \\\n",
        "  --lr_warmup_steps=0 \\\n",
        "  --max_train_steps=3000 \\\n",
        "  --mixed_precision=\"fp16\" \\\n",
        "  --output_dir=\"/content/drive/MyDrive/train\" \\\n",
        "  --pretrained_model_name_or_path=\"josemerinom/zero15\" \\\n",
        "  --prior_loss_weight=1.0 \\\n",
        "  --resolution=512 \\\n",
        "  --seed=0 \\\n",
        "  --snr_gamma=5 \\\n",
        "  --train_batch_size=1 \\\n",
        "  --train_text_encoder \\\n",
        "  --use_8bit_adam \\\n",
        "#"
      ]
    },
    {
      "cell_type": "code",
      "execution_count": null,
      "metadata": {
        "id": "_RJHXJ32A7tw"
      },
      "outputs": [],
      "source": [
        "from google.colab import runtime\n",
        "import time\n",
        "print('Done')\n",
        "time.sleep(60)\n",
        "runtime.unassign()"
      ]
    }
  ],
  "metadata": {
    "accelerator": "GPU",
    "colab": {
      "provenance": []
    },
    "kernelspec": {
      "display_name": "Python 3",
      "name": "python3"
    },
    "language_info": {
      "name": "python"
    }
  },
  "nbformat": 4,
  "nbformat_minor": 0
}
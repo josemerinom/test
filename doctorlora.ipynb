{
  "cells": [
    {
      "cell_type": "code",
      "source": [
        "print('Comenzando Instalacion')\n",
        "from IPython.utils import capture\n",
        "with capture.capture_output() as cap:\n",
        "  from google.colab import drive\n",
        "  drive.mount('/content/drive')\n",
        "  #\n",
        "  !mkdir /content/log\n",
        "  !mkdir /content/drive/MyDrive/train\n",
        "  !mkdir /content/drive/MyDrive/train/img\n",
        "  !mkdir /content/drive/MyDrive/train/output\n",
        "  !mkdir -p /root/.cache/huggingface/accelerate/\n",
        "  #\n",
        "  %cd /content\n",
        "  !curl -Lo /content/app.zip https://huggingface.co/doctorlora2023/archivos/resolve/main/app_0_7_0.zip\n",
        "  !unzip -u /content/app.zip\n",
        "  #\n",
        "  %cd /content/app\n",
        "  #\n",
        "  !pip install lmdb==1.4.1\n",
        "  !pip install torch==2.0.1+cu118 torchvision==0.15.2+cu118 torchaudio==2.0.2 torchtext==0.15.2+cpu torchdata==0.6.1 --index-url https://download.pytorch.org/whl/cu118\n",
        "  !pip install tensorflow==2.13.0\n",
        "  #\n",
        "  !pip install -e .\n",
        "  #\n",
        "  !pip install accelerate==0.25.0\n",
        "  !pip install diffusers[torch]==0.23.1\n",
        "  !pip install transformers==4.35.2\n",
        "  !pip install altair==4.2.2\n",
        "  !pip install bitsandbytes==0.41.1\n",
        "  !pip install dadaptation==3.1\n",
        "  #!pip install diffusers[torch]==0.21.2\n",
        "  !pip install easygui==0.98.3\n",
        "  !pip install einops==0.6.0\n",
        "  !pip install ftfy==6.1.1\n",
        "  !pip install lion-pytorch==0.1.2\n",
        "  #!pip install huggingface-hub==0.15.1\n",
        "  !pip install open-clip-torch==2.20.0\n",
        "  !pip install opencv-python==4.7.0.68\n",
        "  !pip install prodigyopt==1.0\n",
        "  !pip install pytorch-lightning==1.9.0\n",
        "  !pip install safetensors==0.3.1\n",
        "  #!pip install tensorboard==2.10.1\n",
        "  !pip install toml==0.10.2\n",
        "  #!pip install transformers==4.30.2\n",
        "  !pip install voluptuous==0.13.1\n",
        "  #!pip install xformers==0.0.21\n",
        "  !pip install wandb\n",
        "  #\n",
        "  %cd /content\n",
        "  !curl -Lo /content/default_config.yaml https://huggingface.co/doctorlora2023/archivos/resolve/main/default_config_25_fp16.yaml\n",
        "  !cp -r /content/default_config.yaml /root/.cache/huggingface/accelerate/\n",
        "print('Instalacion Finalizada')"
      ],
      "metadata": {
        "id": "tKm1TKusVQ4F"
      },
      "execution_count": null,
      "outputs": []
    },
    {
      "cell_type": "code",
      "source": [
        "l_name=\"lora_v01\"\n",
        "#\n",
        "!accelerate launch /content/app/train_network.py \\\n",
        "  --caption_extension=\".txt\" \\\n",
        "  --clip_skip=1 \\\n",
        "  --gradient_accumulation_steps=1 \\\n",
        "  --keep_tokens=1 \\\n",
        "  --learning_rate=0.0001 \\\n",
        "  --logging_dir=\"/content/log\" \\\n",
        "  --lr_scheduler=\"cosine\" \\\n",
        "  --lr_warmup_steps=0 \\\n",
        "  --max_data_loader_n_workers=0 \\\n",
        "  --max_token_length=225 \\\n",
        "  --max_train_epochs=10 \\\n",
        "  --min_snr_gamma=0 \\\n",
        "  --mixed_precision=\"fp16\" \\\n",
        "  --network_alpha=48 \\\n",
        "  --network_dim=64 \\\n",
        "  --network_module=networks.lora \\\n",
        "  --no_half_vae \\\n",
        "  --noise_offset=0 \\\n",
        "  --optimizer_args \"betas=(0.9, 0.999)\" \"eps=1e-8\" \"weight_decay=0.01\" \\\n",
        "  --optimizer_type=\"AdamW\" \\\n",
        "  --output_dir=\"/content/drive/MyDrive/train/output\" \\\n",
        "  --output_name=$l_name \\\n",
        "  --pretrained_model_name_or_path=\"doctorlora2023/sd15\" \\\n",
        "  --prior_loss_weight=1 \\\n",
        "  --resolution=\"512,512\" \\\n",
        "  --save_every_n_epochs=1 \\\n",
        "  --save_model_as=safetensors \\\n",
        "  --save_precision=\"fp16\" \\\n",
        "  --seed=1 \\\n",
        "  --text_encoder_lr=0.00005 \\\n",
        "  --train_batch_size=1 \\\n",
        "  --train_data_dir=\"/content/drive/MyDrive/train/img\" \\\n",
        "  --unet_lr=0.0001 \\\n",
        "  --vae_batch_size=1 \\\n",
        "  #"
      ],
      "metadata": {
        "id": "W22PWYJabeyz"
      },
      "execution_count": null,
      "outputs": []
    },
    {
      "cell_type": "code",
      "execution_count": null,
      "metadata": {
        "id": "Veuo9ApqS8GP"
      },
      "outputs": [],
      "source": [
        "#desconectar\n",
        "print('Done')\n",
        "from google.colab import runtime\n",
        "import time\n",
        "time.sleep(60)\n",
        "runtime.unassign()"
      ]
    }
  ],
  "metadata": {
    "colab": {
      "provenance": [],
      "gpuType": "T4"
    },
    "kernelspec": {
      "display_name": "Python 3",
      "name": "python3"
    },
    "language_info": {
      "name": "python"
    },
    "accelerator": "GPU"
  },
  "nbformat": 4,
  "nbformat_minor": 0
}
{
  "cells": [
    {
      "cell_type": "code",
      "execution_count": null,
      "metadata": {
        "id": "UGkDKeNbK-uG"
      },
      "outputs": [],
      "source": [
        "from IPython.utils import capture\n",
        "with capture.capture_output() as cap:\n",
        "  from google.colab import drive\n",
        "  drive.mount('/content/drive')\n",
        "  #\n",
        "  %cd /content\n",
        "  !mkdir /content/drive/MyDrive/dataset\n",
        "  !mkdir /content/drive/MyDrive/train\n",
        "  !mkdir /content/log\n",
        "  !mkdir -p /root/.cache/huggingface/accelerate/\n",
        "  !curl -Lo /content/default_config.yaml https://huggingface.co/josemerinom/app/resolve/main/default_config.yaml\n",
        "  !curl -Lo /content/zeroLR.zip https://huggingface.co/josemerinom/app/resolve/main/zeroLR_083.zip\n",
        "  !unzip -u /content/zeroLR.zip\n",
        "  !cp -r /content/default_config.yaml /root/.cache/huggingface/accelerate/\n",
        "  #\n",
        "  %cd /content/zeroLR\n",
        "  !pip install accelerate==0.27.0\n",
        "  !pip install diffusers[torch]==0.26.2\n",
        "  !pip install transformers==4.37.2\n",
        "  !pip install easygui==0.98.3\n",
        "  !pip install einops==0.7.0\n",
        "  !pip install ftfy==6.1.3\n",
        "  !pip install huggingface-hub==0.20.3\n",
        "  !pip install open-clip-torch==2.24.0\n",
        "  !pip install opencv-python==4.9.0.80\n",
        "  !pip install prodigyopt==1.0\n",
        "  !pip install pytorch-lightning==2.1.4\n",
        "  !pip install safetensors==0.4.2\n",
        "  !pip install tensorboard==2.15.1\n",
        "  !pip install toml==0.10.2\n",
        "  !pip install voluptuous==0.14.1\n",
        "  #\n",
        "  !pip install altair==4.2.2\n",
        "  !pip install triton==2.1.0\n",
        "  #\n",
        "  !pip install -e .\n",
        "#\n",
        "print(\"done\")"
      ]
    },
    {
      "cell_type": "code",
      "source": [
        "#adamw\n",
        "%cd /content/zeroLR\n",
        "def zero(name,dim):\n",
        "  l_name=name\n",
        "  l_dim=int(dim)\n",
        "  !accelerate launch --num_cpu_threads_per_process=1 --num_processes=1 train_network.py \\\n",
        "    --caption_extension=\".txt\" \\\n",
        "    --clip_skip=1 \\\n",
        "    --gradient_accumulation_steps=1 \\\n",
        "    --keep_tokens=1 \\\n",
        "    --learning_rate=4e-4 \\\n",
        "    --logging_dir=\"/content/log\" \\\n",
        "    --lr_scheduler=\"constant\" \\\n",
        "    --lr_scheduler_num_cycles=1 \\\n",
        "    --lr_warmup_steps=0 \\\n",
        "    --max_data_loader_n_workers=0 \\\n",
        "    --max_grad_norm=1 \\\n",
        "    --max_token_length=225 \\\n",
        "    --max_train_epochs=1 \\\n",
        "    --max_train_steps=700 \\\n",
        "    --min_snr_gamma=0 \\\n",
        "    --mixed_precision=\"fp16\" \\\n",
        "    --network_alpha=1 \\\n",
        "    --network_dim=$l_dim \\\n",
        "    --network_dropout=0 \\\n",
        "    --network_module=networks.lora \\\n",
        "    --no_half_vae \\\n",
        "    --noise_offset=0 \\\n",
        "    --optimizer_args \"betas=(0.9, 0.999)\" \"eps=1e-8\" \"weight_decay=0.01\" \\\n",
        "    --optimizer_type=\"AdamW\" \\\n",
        "    --output_dir=\"/content/drive/MyDrive/train\" \\\n",
        "    --output_name=$l_name \\\n",
        "    --pretrained_model_name_or_path=\"josemerinom/zero15\" \\\n",
        "    --prior_loss_weight=1 \\\n",
        "    --resolution=512 \\\n",
        "    --scale_weight_norms=0 \\\n",
        "    --save_every_n_steps=100 \\\n",
        "    --save_model_as=\"safetensors\" \\\n",
        "    --save_precision=\"fp16\" \\\n",
        "    --seed=0 \\\n",
        "    --text_encoder_lr=4e-4 \\\n",
        "    --train_batch_size=1 \\\n",
        "    --train_data_dir=\"/content/drive/MyDrive/dataset\" \\\n",
        "    --unet_lr=4e-4 \\\n",
        "    --vae_batch_size=1 \\\n",
        "    --vae=\"/content/drive/MyDrive/zero/new_vae\" \\\n",
        "  #\n",
        "zero(\"lora_v01\",16)"
      ],
      "metadata": {
        "id": "CK1Jqh5vNQWy"
      },
      "execution_count": null,
      "outputs": []
    },
    {
      "cell_type": "code",
      "execution_count": null,
      "metadata": {
        "id": "_RJHXJ32A7tw"
      },
      "outputs": [],
      "source": [
        "from google.colab import runtime\n",
        "import time\n",
        "print('Done')\n",
        "time.sleep(60)\n",
        "runtime.unassign()"
      ]
    }
  ],
  "metadata": {
    "accelerator": "GPU",
    "colab": {
      "provenance": [],
      "gpuType": "T4"
    },
    "kernelspec": {
      "display_name": "Python 3",
      "name": "python3"
    },
    "language_info": {
      "name": "python"
    }
  },
  "nbformat": 4,
  "nbformat_minor": 0
}
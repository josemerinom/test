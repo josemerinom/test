{
  "cells": [
    {
      "cell_type": "code",
      "source": [
        "#version 1.0\n",
        "print('Comenzando Instalacion')\n",
        "from IPython.utils import capture\n",
        "with capture.capture_output() as cap:\n",
        "  from google.colab import drive\n",
        "  drive.mount('/content/drive')\n",
        "  #\n",
        "  !mkdir /content/log\n",
        "  !mkdir /content/drive/MyDrive/train\n",
        "  !mkdir /content/drive/MyDrive/train/img\n",
        "  !mkdir /content/drive/MyDrive/train/output\n",
        "  !mkdir -p /root/.cache/huggingface/accelerate/\n",
        "  #\n",
        "  %cd /content\n",
        "  !curl -Lo /content/zeroLR.zip https://huggingface.co/josemerinom/app/resolve/main/zeroLR_0_7_0.zip\n",
        "  !unzip -u /content/zeroLR.zip\n",
        "  #\n",
        "  %cd /content/zeroLR\n",
        "  #\n",
        "  !pip install -r req1.txt\n",
        "  !pip install -r req2.txt\n",
        "  !pip install -r req3.txt\n",
        "  !pip install -e .\n",
        "  !pip install -r req4.txt\n",
        "  #\n",
        "  !cp -r default_config.yaml /root/.cache/huggingface/accelerate/\n",
        "print('Instalacion Finalizada')"
      ],
      "metadata": {
        "id": "tKm1TKusVQ4F"
      },
      "execution_count": null,
      "outputs": []
    },
    {
      "cell_type": "code",
      "source": [
        "#entrenamiento\n",
        "l_name=\"lora_v01\"\n",
        "%cd /content/zeroLR\n",
        "!accelerate launch --num_cpu_threads_per_process=2 train_network.py \\\n",
        "  --caption_extension=\".txt\" \\\n",
        "  --clip_skip=1 \\\n",
        "  --gradient_accumulation_steps=1 \\\n",
        "  --keep_tokens=0 \\\n",
        "  --learning_rate=0.0001 \\\n",
        "  --logging_dir=\"/content/log\" \\\n",
        "  --lr_scheduler=\"cosine\" \\\n",
        "  --lr_scheduler_num_cycles=1 \\\n",
        "  --lr_warmup_steps=0 \\\n",
        "  --max_data_loader_n_workers=0 \\\n",
        "  --max_token_length=225 \\\n",
        "  --max_train_epochs=10 \\\n",
        "  --max_train_steps=1500 \\\n",
        "  --min_snr_gamma=0 \\\n",
        "  --mixed_precision=\"fp16\" \\\n",
        "  --network_alpha=48 \\\n",
        "  --network_dim=64 \\\n",
        "  --network_module=networks.lora \\\n",
        "  --no_half_vae \\\n",
        "  --noise_offset=0 \\\n",
        "  --optimizer_type=\"AdamW\" \\\n",
        "  --output_dir=\"/content/drive/MyDrive/train/output\" \\\n",
        "  --output_name=$l_name \\\n",
        "  --pretrained_model_name_or_path=\"josemerinom/zero15\" \\\n",
        "  --prior_loss_weight=1 \\\n",
        "  --resolution=\"512,512\" \\\n",
        "  --save_every_n_epochs=1 \\\n",
        "  --save_model_as=safetensors \\\n",
        "  --save_precision=\"fp16\" \\\n",
        "  --seed=1 \\\n",
        "  --text_encoder_lr=0.00005 \\\n",
        "  --train_batch_size=1 \\\n",
        "  --train_data_dir=\"/content/drive/MyDrive/train/img\" \\\n",
        "  --unet_lr=0.0001 \\\n",
        "  --vae_batch_size=1 \\\n",
        "  #"
      ],
      "metadata": {
        "id": "efhn9WX8PT5A"
      },
      "execution_count": null,
      "outputs": []
    },
    {
      "cell_type": "code",
      "execution_count": null,
      "metadata": {
        "id": "Veuo9ApqS8GP"
      },
      "outputs": [],
      "source": [
        "#desconectar\n",
        "print('Done')\n",
        "from google.colab import runtime\n",
        "import time\n",
        "time.sleep(60)\n",
        "runtime.unassign()"
      ]
    }
  ],
  "metadata": {
    "colab": {
      "provenance": []
    },
    "kernelspec": {
      "display_name": "Python 3",
      "name": "python3"
    },
    "language_info": {
      "name": "python"
    }
  },
  "nbformat": 4,
  "nbformat_minor": 0
}
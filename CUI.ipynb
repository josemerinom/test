{
  "nbformat": 4,
  "nbformat_minor": 0,
  "metadata": {
    "colab": {
      "provenance": [],
      "gpuType": "T4"
    },
    "kernelspec": {
      "name": "python3",
      "display_name": "Python 3"
    },
    "language_info": {
      "name": "python"
    },
    "accelerator": "GPU"
  },
  "cells": [
    {
      "cell_type": "code",
      "source": [
        "from IPython.utils import capture\n",
        "with capture.capture_output() as cap:\n",
        "  %cd /content\n",
        "  !git clone https://github.com/comfyanonymous/ComfyUI\n",
        "  #\n",
        "  %cd /content/ComfyUI/custom_nodes\n",
        "  !git clone https://github.com/mit-han-lab/ComfyUI-nunchaku\n",
        "  !git clone https://github.com/ltdrdata/ComfyUI-Inspire-Pack\n",
        "  #\n",
        "  !curl -Lo /content/nunchaku-0.3.2.dev20250701%2Btorch2.6-cp311-cp311-linux_x86_64.whl https://huggingface.co/josemerinom/flux/resolve/main/nunchaku-0.3.2.dev20250701%2Btorch2.6-cp311-cp311-linux_x86_64.whl\n",
        "  !curl -Lo /content/ComfyUI/models/vae/ae.safetensors https://huggingface.co/josemerinom/flux/resolve/main/ae.safetensors\n",
        "  !curl -Lo /content/ComfyUI/models/clip/clip_l.safetensors https://huggingface.co/josemerinom/flux/resolve/main/clip_l.safetensors\n",
        "  !curl -Lo /content/ComfyUI/models/clip/t5xxl_fp8_e4m3fn.safetensors https://huggingface.co/josemerinom/flux/resolve/main/t5xxl_fp8_e4m3fn.safetensors\n",
        "  !curl -Lo /content/ComfyUI/models/unet/svdq-int4_r32-flux.1-dev.safetensors https://huggingface.co/josemerinom/flux/resolve/main/svdq-int4_r32-flux.1-dev.safetensors\n",
        "  !curl -Lo /content/ComfyUI/models/unet/svdq-int4_r32-flux.1-kontext-dev.safetensors https://huggingface.co/josemerinom/flux/resolve/main/svdq-int4_r32-flux.1-kontext-dev.safetensors\n",
        "  #\n",
        "  !pip install /content/nunchaku-0.3.2.dev20250701%2Btorch2.6-cp311-cp311-linux_x86_64.whl\n",
        "  !pip install -r /content/ComfyUI/requirements.txt\n",
        "  !pip install -r /content/ComfyUI/custom_nodes/ComfyUI-Inspire-Pack/requirements.txt\n",
        "  !pip install -r /content/ComfyUI/custom_nodes/ComfyUI-nunchaku/requirements.txt\n",
        "  #\n",
        "print(\"done\")"
      ],
      "metadata": {
        "id": "9XGn_Kl8TPN-"
      },
      "execution_count": null,
      "outputs": []
    },
    {
      "cell_type": "code",
      "source": [
        "%cd /content/ComfyUI\n",
        "#\n",
        "!wget -P ~ https://github.com/cloudflare/cloudflared/releases/latest/download/cloudflared-linux-amd64.deb\n",
        "!dpkg -i ~/cloudflared-linux-amd64.deb\n",
        "\n",
        "import subprocess\n",
        "import threading\n",
        "import time\n",
        "import socket\n",
        "import urllib.request\n",
        "\n",
        "def iframe_thread(port):\n",
        "  while True:\n",
        "      time.sleep(0.5)\n",
        "      sock = socket.socket(socket.AF_INET, socket.SOCK_STREAM)\n",
        "      result = sock.connect_ex(('127.0.0.1', port))\n",
        "      if result == 0:\n",
        "        break\n",
        "      sock.close()\n",
        "  print(\"\\nComfyUI finished loading, trying to launch cloudflared (if it gets stuck here cloudflared is having issues)\\n\")\n",
        "\n",
        "  p = subprocess.Popen([\"cloudflared\", \"tunnel\", \"--url\", \"http://127.0.0.1:{}\".format(port)], stdout=subprocess.PIPE, stderr=subprocess.PIPE)\n",
        "  for line in p.stderr:\n",
        "    l = line.decode()\n",
        "    if \"trycloudflare.com \" in l:\n",
        "      print(\"This is the URL to access ComfyUI:\", l[l.find(\"http\"):], end='')\n",
        "    #print(l, end='')\n",
        "\n",
        "\n",
        "threading.Thread(target=iframe_thread, daemon=True, args=(8188,)).start()\n",
        "\n",
        "!python main.py --dont-print-server"
      ],
      "metadata": {
        "id": "ITruXtAk34jn"
      },
      "execution_count": null,
      "outputs": []
    }
  ]
}